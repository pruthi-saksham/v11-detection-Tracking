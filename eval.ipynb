{
 "cells": [
  {
   "cell_type": "code",
   "execution_count": 30,
   "metadata": {},
   "outputs": [],
   "source": [
    "import pandas as pd\n",
    "\n",
    "df = pd.read_csv(\"outputs/tracking_data.csv\")"
   ]
  },
  {
   "cell_type": "code",
   "execution_count": 31,
   "metadata": {},
   "outputs": [],
   "source": [
    "total_vehicles = df[\"Object_ID\"].nunique()\n",
    "congested_zones = df[\"Zone\"].value_counts().idxmax()\n",
    "peak_time = int(df.groupby(\"Frame\")[\"Object_ID\"].count().idxmax())\n",
    "vehicle_count_left = (df[\"Zone\"] == \"Left Lane\").sum()\n",
    "vehicle_count_right = (df[\"Zone\"] == \"Right Lane\").sum()\n",
    "movement_trends = df[\"Movement_Trend\"].value_counts().idxmax()\n"
   ]
  },
  {
   "cell_type": "code",
   "execution_count": 32,
   "metadata": {},
   "outputs": [],
   "source": [
    "# Generate README content\n",
    "readme_content = f\"\"\"\n",
    "#  Traffic Analysis - AI Report\n",
    "\n",
    "##  Key Insights\n",
    "- **Total Vehicles Detected**: {total_vehicles}\n",
    "- **Heavy Traffic Zones**: {congested_zones}\n",
    "- **Peak Congestion Time**: {peak_time}\n",
    "- **Left Lane Vehicles**: {vehicle_count_left}\n",
    "- **Right Lane Vehicles**: {vehicle_count_right}\n",
    "- **Movement Trends**: {movement_trends}\n",
    "\n",
    "##  Observations\n",
    "- Heavy traffic detected in `{congested_zones}` around **frame {peak_time}**.\n",
    "- Predominant movement trend: **{movement_trends}**.\n",
    "- Potential traffic signal delay identified in **{congested_zones}**.\n",
    "\n",
    "##  Recommendations\n",
    " **Adjust signal timing** in `{congested_zones}`.  \n",
    " **Optimize lane management** to improve flow.  \n",
    " **Implement peak-hour adjustments** between congested zones.\n",
    "\n",
    "---\n",
    "📍 **Generated from `eval.ipynb` Traffic Analysis System.**\n",
    "\"\"\""
   ]
  },
  {
   "cell_type": "code",
   "execution_count": 33,
   "metadata": {},
   "outputs": [
    {
     "name": "stdout",
     "output_type": "stream",
     "text": [
      "README.md saved at: D:/project/WASSERSTOFF/README.md\n"
     ]
    }
   ],
   "source": [
    "output_path = \"D:/project/WASSERSTOFF/README.md\"  # Adjust as needed\n",
    "with open(output_path, \"w\", encoding=\"utf-8\") as f:\n",
    "    f.write(readme_content)\n",
    "\n",
    "print(f\"README.md saved at: {output_path}\")\n"
   ]
  },
  {
   "cell_type": "code",
   "execution_count": null,
   "metadata": {},
   "outputs": [],
   "source": []
  }
 ],
 "metadata": {
  "kernelspec": {
   "display_name": "myenv",
   "language": "python",
   "name": "python3"
  },
  "language_info": {
   "codemirror_mode": {
    "name": "ipython",
    "version": 3
   },
   "file_extension": ".py",
   "mimetype": "text/x-python",
   "name": "python",
   "nbconvert_exporter": "python",
   "pygments_lexer": "ipython3",
   "version": "3.12.6"
  }
 },
 "nbformat": 4,
 "nbformat_minor": 2
}
